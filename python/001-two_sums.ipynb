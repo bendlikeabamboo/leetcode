{
 "cells": [
  {
   "cell_type": "code",
   "execution_count": 13,
   "metadata": {},
   "outputs": [
    {
     "name": "stdout",
     "output_type": "stream",
     "text": [
      "0\n",
      "1\n",
      "0\n"
     ]
    },
    {
     "data": {
      "text/plain": [
       "[0, 1, 2, 3]"
      ]
     },
     "execution_count": 13,
     "metadata": {},
     "output_type": "execute_result"
    }
   ],
   "source": [
    "from typing import List\n",
    "\n",
    "class Solution:\n",
    "    def twoSum(self, nums: List[int], target: int) -> List[int]:\n",
    "        nums = sorted(nums)\n",
    "        for i in nums:\n",
    "            print(i)\n",
    "\n",
    "    def shift(self,seq,n=0):\n",
    "        a = n % len(seq)\n",
    "        print(a)\n",
    "        return seq[-a:] + seq[:-a]\n",
    "\n",
    "foo = Solution()\n",
    "foo.twoSum(nums=[0,1], target=1)\n",
    "foo.shift([0,1,2,3])"
   ]
  }
 ],
 "metadata": {
  "interpreter": {
   "hash": "16ba8c251f0da39950761660d655c160836e80a8c7cc6b479e842b9d5e294ea9"
  },
  "kernelspec": {
   "display_name": "Python 3.9.7 64-bit ('base': conda)",
   "language": "python",
   "name": "python3"
  },
  "language_info": {
   "codemirror_mode": {
    "name": "ipython",
    "version": 3
   },
   "file_extension": ".py",
   "mimetype": "text/x-python",
   "name": "python",
   "nbconvert_exporter": "python",
   "pygments_lexer": "ipython3",
   "version": "3.9.7"
  },
  "orig_nbformat": 4
 },
 "nbformat": 4,
 "nbformat_minor": 2
}
